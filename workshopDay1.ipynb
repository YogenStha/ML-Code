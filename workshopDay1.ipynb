{
 "cells": [
  {
   "cell_type": "markdown",
   "id": "c4e56777-315e-430a-bd83-9ee2b064ad29",
   "metadata": {},
   "source": [
    "# WorkShop Day 1"
   ]
  },
  {
   "cell_type": "code",
   "execution_count": 7,
   "id": "2327056b-16d0-4b56-a752-cf843243cf55",
   "metadata": {},
   "outputs": [
    {
     "name": "stdout",
     "output_type": "stream",
     "text": [
      "0\n",
      "1\n",
      "2\n",
      "3\n",
      "4\n",
      "5\n",
      "6\n",
      "7\n",
      "8\n",
      "9\n"
     ]
    }
   ],
   "source": [
    "for i in range(10):\n",
    "    print(i)"
   ]
  },
  {
   "cell_type": "code",
   "execution_count": 4,
   "id": "c7edc050-1660-4181-841d-a9c4059538bb",
   "metadata": {},
   "outputs": [
    {
     "name": "stdout",
     "output_type": "stream",
     "text": [
      "hello world!\n",
      "b is not greater than a\n",
      "35\n"
     ]
    }
   ],
   "source": [
    "print(\"hello world!\");\n",
    "a = 200\n",
    "b = 33\n",
    "\n",
    "if b > a:\n",
    "  print(\"b is greater than a\");\n",
    "else:\n",
    "  print(\"b is not greater than a\");\n",
    "print(15+20)"
   ]
  },
  {
   "cell_type": "code",
   "execution_count": 9,
   "id": "04cda01b-b7d7-4590-bde5-a75333a40529",
   "metadata": {},
   "outputs": [
    {
     "name": "stdout",
     "output_type": "stream",
     "text": [
      "['ford', 'BMW', 'TaTa']\n"
     ]
    }
   ],
   "source": [
    "car=[\"ford\",\"BMW\",\"TaTa\"]\n",
    "print(car)"
   ]
  },
  {
   "cell_type": "code",
   "execution_count": 11,
   "id": "a4f17a07-209d-4c21-b081-e1f54787f71b",
   "metadata": {},
   "outputs": [
    {
     "name": "stdout",
     "output_type": "stream",
     "text": [
      "<class 'str'>\n",
      "<class 'str'>\n",
      "<class 'float'>\n"
     ]
    }
   ],
   "source": [
    "b= 'Yogen'\n",
    "c='Sohena'\n",
    "d= 12.12\n",
    "print(type(b))\n",
    "print(type(c))\n",
    "print(type(d))"
   ]
  },
  {
   "cell_type": "code",
   "execution_count": 16,
   "id": "f75732e7-fd58-4840-b910-1cb88d327bc9",
   "metadata": {},
   "outputs": [
    {
     "name": "stdin",
     "output_type": "stream",
     "text": [
      "enter the name yogen\n",
      "enter the age 22\n"
     ]
    },
    {
     "name": "stdout",
     "output_type": "stream",
     "text": [
      "Name:  yogen\n",
      "age:  22\n"
     ]
    }
   ],
   "source": [
    "#Take the input from the user to show their name and age\n",
    "name= input(\"enter the name\")\n",
    "age= int(input(\"enter the age\"))\n",
    "print(\"Name: \",name)\n",
    "print(\"age: \",age)"
   ]
  },
  {
   "cell_type": "code",
   "execution_count": 19,
   "id": "5cfdcb79-9d52-43e8-86de-e2c0c5e327ec",
   "metadata": {},
   "outputs": [
    {
     "name": "stdout",
     "output_type": "stream",
     "text": [
      "Sum:15\n",
      "diff:5\n",
      "product:50\n",
      "Quotient:2.0\n"
     ]
    }
   ],
   "source": [
    "def calc(a,b):\n",
    "    return a+b,a-b,a*b,a/b\n",
    "s,d,p,q=calc(10,5)\n",
    "print(f\"Sum:{s}\")\n",
    "print(f\"diff:{d}\")\n",
    "print(f\"product:{p}\")\n",
    "print(f\"Quotient:{q}\")"
   ]
  },
  {
   "cell_type": "code",
   "execution_count": 24,
   "id": "3f520f38-99c7-43ad-bde6-8456ea032870",
   "metadata": {},
   "outputs": [
    {
     "name": "stdout",
     "output_type": "stream",
     "text": [
      "<class 'list'>\n"
     ]
    }
   ],
   "source": [
    "#List\n",
    "a=['Sujan',1,6,2.3]\n",
    "print(type(a))"
   ]
  },
  {
   "cell_type": "code",
   "execution_count": 26,
   "id": "cddc74fd-d128-4ea6-80f6-68b4360c9368",
   "metadata": {},
   "outputs": [
    {
     "name": "stdout",
     "output_type": "stream",
     "text": [
      "Sujan\n",
      "1\n",
      "6\n",
      "2.3\n"
     ]
    }
   ],
   "source": [
    "#print each element of list seprately\n",
    "for element in a:\n",
    "    print(element)"
   ]
  },
  {
   "cell_type": "code",
   "execution_count": 28,
   "id": "f61c5849-8628-4fb3-b46d-79e60427f09a",
   "metadata": {},
   "outputs": [
    {
     "name": "stdout",
     "output_type": "stream",
     "text": [
      "6\n",
      "['Sujan', 1]\n"
     ]
    }
   ],
   "source": [
    "#deleteing from a list\n",
    "print(a.pop())\n",
    "print(a)"
   ]
  },
  {
   "cell_type": "code",
   "execution_count": 31,
   "id": "7eea2a3f-2b0e-4c02-8581-30a6c4ac8b4a",
   "metadata": {},
   "outputs": [
    {
     "name": "stdout",
     "output_type": "stream",
     "text": [
      "1\n"
     ]
    }
   ],
   "source": [
    "print(a.pop(0))"
   ]
  },
  {
   "cell_type": "code",
   "execution_count": 33,
   "id": "786b6bee-956f-477c-85d2-e49ab1eb7d00",
   "metadata": {},
   "outputs": [
    {
     "name": "stdout",
     "output_type": "stream",
     "text": [
      "[20, 20]\n"
     ]
    }
   ],
   "source": [
    "#assigning new data\n",
    "a.append(20)\n",
    "print(a)"
   ]
  },
  {
   "cell_type": "code",
   "execution_count": 37,
   "id": "2a45a108-0114-496b-9471-a8a7b10b206a",
   "metadata": {},
   "outputs": [
    {
     "name": "stdout",
     "output_type": "stream",
     "text": [
      "[20, 200]\n"
     ]
    }
   ],
   "source": [
    "#replacing data\n",
    "a[1]=200\n",
    "print(a)"
   ]
  },
  {
   "cell_type": "code",
   "execution_count": 52,
   "id": "d61a6ff9-2303-4528-95c3-db19a9e0f762",
   "metadata": {},
   "outputs": [
    {
     "name": "stdout",
     "output_type": "stream",
     "text": [
      "{2, 4, 5, 7}\n",
      "<class 'set'>\n"
     ]
    }
   ],
   "source": [
    "#Do same thing for Tuples\n",
    "a={2,4,5,7}\n",
    "print(a)\n",
    "print(type(a))"
   ]
  },
  {
   "cell_type": "code",
   "execution_count": 56,
   "id": "bae7539e-c71d-414c-9828-f31e312768ed",
   "metadata": {},
   "outputs": [
    {
     "name": "stdout",
     "output_type": "stream",
     "text": [
      "18.0\n"
     ]
    }
   ],
   "source": [
    "from workshop import interest\n",
    "print(interest(10,12,15))"
   ]
  },
  {
   "cell_type": "code",
   "execution_count": 64,
   "id": "307c1b1e-c966-41e0-a176-eacac22203ba",
   "metadata": {},
   "outputs": [
    {
     "name": "stdout",
     "output_type": "stream",
     "text": [
      "47\n",
      "-1\n",
      "552\n",
      "0.9583333333333334\n"
     ]
    }
   ],
   "source": [
    "from operation import Operation\n",
    "val = Operation(23,24)\n",
    "print(val.sum())\n",
    "print(val.diff())\n",
    "print(val.product())\n",
    "print(val.div())"
   ]
  },
  {
   "cell_type": "code",
   "execution_count": 75,
   "id": "bb9214e2-677e-4853-869d-73d2f2966f5d",
   "metadata": {},
   "outputs": [
    {
     "name": "stdout",
     "output_type": "stream",
     "text": [
      "1557.09\n"
     ]
    }
   ],
   "source": [
    "from bim import BiM\n",
    "print(f\"{BiM(180,34):.2f}\")\n"
   ]
  },
  {
   "cell_type": "code",
   "execution_count": 1,
   "id": "67e5ea1e-5105-46d0-84ae-bb2f6cf3f7a0",
   "metadata": {},
   "outputs": [
    {
     "name": "stdin",
     "output_type": "stream",
     "text": [
      "Enter your exam score (0-100):  71\n"
     ]
    },
    {
     "name": "stdout",
     "output_type": "stream",
     "text": [
      "Your grade is: C\n"
     ]
    }
   ],
   "source": [
    "from bim import grade\n",
    "val=grade()\n",
    "print(f\"Your grade is: {val}\")"
   ]
  },
  {
   "cell_type": "code",
   "execution_count": null,
   "id": "fcd944b0-1dc5-4640-839a-482e4cb71f02",
   "metadata": {},
   "outputs": [],
   "source": []
  }
 ],
 "metadata": {
  "kernelspec": {
   "display_name": "Python 3 (ipykernel)",
   "language": "python",
   "name": "python3"
  },
  "language_info": {
   "codemirror_mode": {
    "name": "ipython",
    "version": 3
   },
   "file_extension": ".py",
   "mimetype": "text/x-python",
   "name": "python",
   "nbconvert_exporter": "python",
   "pygments_lexer": "ipython3",
   "version": "3.13.2"
  }
 },
 "nbformat": 4,
 "nbformat_minor": 5
}
