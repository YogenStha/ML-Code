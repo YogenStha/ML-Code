{
 "cells": [
  {
   "cell_type": "code",
   "execution_count": 6,
   "id": "84b59597-eead-4288-b80a-cf8dcc811a89",
   "metadata": {},
   "outputs": [
    {
     "name": "stdout",
     "output_type": "stream",
     "text": [
      "[ 0  1  2  3  4  5  6  7  8  9 10 11 12 13 14]\n"
     ]
    }
   ],
   "source": [
    "import numpy as np\n",
    "a= np.arange(15)\n",
    "print (a)"
   ]
  },
  {
   "cell_type": "code",
   "execution_count": 8,
   "id": "92fe433a-b2aa-42da-84ac-97d7fa6a8d17",
   "metadata": {},
   "outputs": [
    {
     "name": "stdout",
     "output_type": "stream",
     "text": [
      "[1 2 3 4]\n"
     ]
    }
   ],
   "source": [
    "arr =np.array([1,2,3,4])\n",
    "print (arr)"
   ]
  },
  {
   "cell_type": "code",
   "execution_count": 10,
   "id": "d248d97e-6e48-49b4-853d-3053ffe998f7",
   "metadata": {},
   "outputs": [
    {
     "name": "stdout",
     "output_type": "stream",
     "text": [
      "[0. 0. 0. 0. 0.]\n"
     ]
    }
   ],
   "source": [
    "zero=np.zeros(5)\n",
    "print(zero)"
   ]
  },
  {
   "cell_type": "code",
   "execution_count": 12,
   "id": "49a24cd0-ea40-496b-9294-9fec79928dc2",
   "metadata": {},
   "outputs": [
    {
     "name": "stdout",
     "output_type": "stream",
     "text": [
      "[1. 1. 1. 1. 1.]\n"
     ]
    }
   ],
   "source": [
    "one = np.ones(5)\n",
    "print(one)"
   ]
  },
  {
   "cell_type": "code",
   "execution_count": 14,
   "id": "bd6928a4-9589-4c9d-b5f1-3aadc68aefa0",
   "metadata": {},
   "outputs": [
    {
     "name": "stdout",
     "output_type": "stream",
     "text": [
      "[[0. 0. 0.]\n",
      " [0. 0. 0.]]\n"
     ]
    }
   ],
   "source": [
    "zero_mat= np.zeros(6).reshape(2,3)\n",
    "print(zero_mat)"
   ]
  },
  {
   "cell_type": "code",
   "execution_count": 16,
   "id": "a4c19dbf-1280-48a4-a6b9-a9cf2baf7bf2",
   "metadata": {},
   "outputs": [
    {
     "name": "stdout",
     "output_type": "stream",
     "text": [
      "[0 1 2 3 4 5 6 7 8 9]\n",
      "[5 6 7 8 9]\n"
     ]
    }
   ],
   "source": [
    "array1 =np.arange(10)\n",
    "array2 =np.arange(5,10)\n",
    "print(array1)\n",
    "print(array2)"
   ]
  },
  {
   "cell_type": "code",
   "execution_count": 19,
   "id": "781a68d1-a4df-4261-9915-fecf0bb49396",
   "metadata": {},
   "outputs": [
    {
     "name": "stdout",
     "output_type": "stream",
     "text": [
      "[[27 38 30 46]\n",
      " [39 35 48 33]\n",
      " [35 18 21 24]\n",
      " [41 39 36 21]]\n"
     ]
    }
   ],
   "source": [
    "mat1 = np.random.randint(10,50,(4,4))\n",
    "print(mat1)"
   ]
  },
  {
   "cell_type": "code",
   "execution_count": 26,
   "id": "373ebbf4-b5f2-400d-92b4-4edde4c0fb3c",
   "metadata": {},
   "outputs": [
    {
     "name": "stdout",
     "output_type": "stream",
     "text": [
      "[[29 26]\n",
      " [24 27]] \n",
      " [[17 16]\n",
      " [17 19]] \n",
      " [[46 42]\n",
      " [41 46]] \n",
      " [[12 10]\n",
      " [ 7  8]]\n"
     ]
    }
   ],
   "source": [
    "mat2=np.random.randint(20,30,(2,2))\n",
    "mat3=np.random.randint(10,20,(2,2))\n",
    "print(mat2,\"\\n\",mat3,\"\\n\",mat2+mat3,\"\\n\",mat2-mat3)"
   ]
  },
  {
   "cell_type": "code",
   "execution_count": 28,
   "id": "004063c5-0e02-450c-b0f6-21e5cef0881f",
   "metadata": {},
   "outputs": [
    {
     "name": "stdout",
     "output_type": "stream",
     "text": [
      "[[26.49331114 23.3332836 ]\n",
      " [24.09339468 22.87928459]]\n"
     ]
    }
   ],
   "source": [
    "mat4=np.random.uniform(20,30,(2,2))\n",
    "print(mat4)"
   ]
  },
  {
   "cell_type": "code",
   "execution_count": 30,
   "id": "1307bfc2-899d-47ff-b4c9-1497bb205c28",
   "metadata": {},
   "outputs": [
    {
     "name": "stdout",
     "output_type": "stream",
     "text": [
      "[ 1  2  3  4  5  6  7  8  9 10 11 12 13 14 15 16 17 18 19]\n",
      "[ 2  4  6  8 10 12 14 16 18]\n"
     ]
    }
   ],
   "source": [
    "arr = np.arange(1,20)\n",
    "even = arr[arr%2==0]\n",
    "print(arr)\n",
    "print(even)"
   ]
  },
  {
   "cell_type": "code",
   "execution_count": 33,
   "id": "0ca274ed-e10a-4528-babb-bfbe97db2a43",
   "metadata": {},
   "outputs": [
    {
     "name": "stdout",
     "output_type": "stream",
     "text": [
      "[ 1  3  5  7  9 11 13 15 17 19]\n"
     ]
    }
   ],
   "source": [
    "arr = np.arange(1,20)\n",
    "odd= arr[arr%2==1]\n",
    "print(odd)"
   ]
  },
  {
   "cell_type": "code",
   "execution_count": null,
   "id": "a671a87c-1406-4564-a62c-81dde351f27b",
   "metadata": {},
   "outputs": [],
   "source": []
  }
 ],
 "metadata": {
  "kernelspec": {
   "display_name": "Python 3 (ipykernel)",
   "language": "python",
   "name": "python3"
  },
  "language_info": {
   "codemirror_mode": {
    "name": "ipython",
    "version": 3
   },
   "file_extension": ".py",
   "mimetype": "text/x-python",
   "name": "python",
   "nbconvert_exporter": "python",
   "pygments_lexer": "ipython3",
   "version": "3.13.2"
  }
 },
 "nbformat": 4,
 "nbformat_minor": 5
}
